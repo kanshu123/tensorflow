{
 "cells": [
  {
   "cell_type": "code",
   "execution_count": 1,
   "metadata": {
    "collapsed": true
   },
   "outputs": [],
   "source": [
    "import tensorflow as tf\n",
    "from tensorflow.examples.tutorials.mnist import input_data\n",
    "import matplotlib.pyplot as plt\n",
    "%matplotlib inline\n",
    "import numpy as np"
   ]
  },
  {
   "cell_type": "code",
   "execution_count": 2,
   "metadata": {
    "collapsed": false
   },
   "outputs": [
    {
     "name": "stdout",
     "output_type": "stream",
     "text": [
      "Extracting mnist/train-images-idx3-ubyte.gz\n",
      "Extracting mnist/train-labels-idx1-ubyte.gz\n",
      "Extracting mnist/t10k-images-idx3-ubyte.gz\n",
      "Extracting mnist/t10k-labels-idx1-ubyte.gz\n"
     ]
    }
   ],
   "source": [
    "mnist = input_data.read_data_sets('mnist/',one_hot = True)"
   ]
  },
  {
   "cell_type": "code",
   "execution_count": 4,
   "metadata": {
    "collapsed": false
   },
   "outputs": [],
   "source": [
    "image = mnist.train.images[1].reshape([28,28])\n",
    "label = mnist.train.labels[1]"
   ]
  },
  {
   "cell_type": "code",
   "execution_count": 9,
   "metadata": {
    "collapsed": false
   },
   "outputs": [
    {
     "data": {
      "text/plain": [
       "array([[ 0.,  0.,  0., ...,  1.,  0.,  0.],\n",
       "       [ 0.,  0.,  0., ...,  0.,  0.,  0.],\n",
       "       [ 0.,  0.,  0., ...,  0.,  0.,  0.],\n",
       "       ..., \n",
       "       [ 0.,  0.,  0., ...,  0.,  0.,  0.],\n",
       "       [ 0.,  0.,  0., ...,  0.,  0.,  0.],\n",
       "       [ 0.,  0.,  0., ...,  0.,  1.,  0.]])"
      ]
     },
     "execution_count": 9,
     "metadata": {},
     "output_type": "execute_result"
    }
   ],
   "source": [
    "mnist.train.labels"
   ]
  },
  {
   "cell_type": "code",
   "execution_count": 53,
   "metadata": {
    "collapsed": false
   },
   "outputs": [
    {
     "name": "stdout",
     "output_type": "stream",
     "text": [
      "3\n",
      "Tensor(\"ArgMax_1:0\", shape=(), dtype=int64)\n"
     ]
    },
    {
     "data": {
      "image/png": "[encoded data removed]",
      "text/plain": [
       "<matplotlib.figure.Figure at 0x1247231d0>"
      ]
     },
     "metadata": {},
     "output_type": "display_data"
    }
   ],
   "source": [
    "plt.rcParams['image.cmap'] = 'Greys'\n",
    "plt.imshow(image)\n",
    "print ([a for a,b in enumerate(label) if b == max(label)][0])\n",
    "print (tf.argmax(label,1))"
   ]
  },
  {
   "cell_type": "code",
   "execution_count": 150,
   "metadata": {
    "collapsed": false
   },
   "outputs": [],
   "source": [
    "inputs = tf.placeholder(tf.float32, [None,784])\n",
    "labels = tf.placeholder(tf.float32,[None,10])"
   ]
  },
  {
   "cell_type": "code",
   "execution_count": 151,
   "metadata": {
    "collapsed": false
   },
   "outputs": [],
   "source": [
    "#nonlinear multilayer\n",
    "w_h = tf.Variable(tf.truncated_normal([784,400],stddev=0.1))\n",
    "b_h = tf.Variable(tf.constant(0.1,shape=[400]))\n",
    "hidden_1 = tf.nn.relu(tf.add(tf.matmul(inputs,w_h),b_h))\n",
    "w_2 = tf.Variable(tf.truncated_normal([400,100],stddev = 0.1))\n",
    "b_2 = tf.Variable(tf.constant(0.1,shape=[100]))\n",
    "hidden_2 = tf.nn.relu(tf.matmul(hidden_1,w_2)+b_2)\n",
    "w_o = tf.Variable(tf.truncated_normal([100,10],stddev=0.1))\n",
    "b_o = tf.Variable(tf.constant(0.1,shape = [10]))\n",
    "logit = tf.add(tf.matmul(hidden_2,w_o),b_o)\n",
    "out = tf.nn.softmax(tf.add(tf.matmul(hidden_2,w_o),b_o))\n",
    "#bad idea, acc = 0.1 with hidden layer, acc = 0.9 without hidden layer"
   ]
  },
  {
   "cell_type": "markdown",
   "metadata": {},
   "source": [
    "#linear\n",
    "w = tf.Variable(tf.truncated_normal([784,10]))\n",
    "b = tf.Variable(tf.zeros(10))\n",
    "out = tf.nn.softmax(tf.matmul(inputs,w)+b)\n",
    "logit = tf.matmul(inputs,w)+b"
   ]
  },
  {
   "cell_type": "code",
   "execution_count": 152,
   "metadata": {
    "collapsed": false
   },
   "outputs": [],
   "source": [
    "loss = tf.reduce_mean(tf.nn.softmax_cross_entropy_with_logits(logits=logit,labels=labels))\n",
    "#loss = tf.reduce_mean(-tf.reduce_sum(labels*tf.log(out), reduction_indices=[1]))"
   ]
  },
  {
   "cell_type": "code",
   "execution_count": 153,
   "metadata": {
    "collapsed": true
   },
   "outputs": [],
   "source": [
    "train = tf.train.GradientDescentOptimizer(0.5).minimize(loss)"
   ]
  },
  {
   "cell_type": "code",
   "execution_count": 154,
   "metadata": {
    "collapsed": true
   },
   "outputs": [],
   "source": [
    "init = tf.global_variables_initializer()\n",
    "sess = tf.Session()\n",
    "sess.run(init)"
   ]
  },
  {
   "cell_type": "code",
   "execution_count": 155,
   "metadata": {
    "collapsed": false
   },
   "outputs": [],
   "source": [
    "for i in range(2000):\n",
    "    batch_xs,batch_ys = mnist.train.next_batch(100)\n",
    "    sess.run(train,feed_dict={inputs:batch_xs,labels:batch_ys})"
   ]
  },
  {
   "cell_type": "code",
   "execution_count": 156,
   "metadata": {
    "collapsed": true
   },
   "outputs": [],
   "source": [
    "correct_prediction = tf.equal(tf.argmax(out,1),tf.argmax(labels,1))"
   ]
  },
  {
   "cell_type": "code",
   "execution_count": 157,
   "metadata": {
    "collapsed": true
   },
   "outputs": [],
   "source": [
    "accuracy = tf.reduce_mean(tf.cast(correct_prediction,tf.float32))"
   ]
  },
  {
   "cell_type": "code",
   "execution_count": 158,
   "metadata": {
    "collapsed": false
   },
   "outputs": [
    {
     "data": {
      "text/plain": [
       "0.97780001"
      ]
     },
     "execution_count": 158,
     "metadata": {},
     "output_type": "execute_result"
    }
   ],
   "source": [
    "sess.run(accuracy,feed_dict = {inputs:mnist.test.images,labels:mnist.test.labels})"
   ]
  },
  {
   "cell_type": "code",
   "execution_count": 159,
   "metadata": {
    "collapsed": false
   },
   "outputs": [
    {
     "data": {
      "text/plain": [
       "<matplotlib.image.AxesImage at 0x11b17cc88>"
      ]
     },
     "execution_count": 159,
     "metadata": {},
     "output_type": "execute_result"
    },
    {
     "data": {
      "image/png": "[encoded data removed]",
      "text/plain": [
       "<matplotlib.figure.Figure at 0x11c4c5400>"
      ]
     },
     "metadata": {},
     "output_type": "display_data"
    }
   ],
   "source": [
    "plt.imshow(mnist.test.images[9].reshape([28,28]))"
   ]
  },
  {
   "cell_type": "code",
   "execution_count": 160,
   "metadata": {
    "collapsed": false
   },
   "outputs": [
    {
     "name": "stdout",
     "output_type": "stream",
     "text": [
      "[[  1.10607322e-10   1.48248047e-09   4.67171679e-09   5.91709579e-08\n",
      "    5.49336430e-03   9.22371015e-08   3.04618067e-11   3.42084313e-05\n",
      "    9.80449272e-07   9.94471312e-01]]\n"
     ]
    }
   ],
   "source": [
    "print (sess.run(out,feed_dict={inputs:[mnist.test.images[9]]}))"
   ]
  },
  {
   "cell_type": "markdown",
   "metadata": {
    "collapsed": false
   },
   "source": [
    "CONV_NET"
   ]
  },
  {
   "cell_type": "code",
   "execution_count": null,
   "metadata": {
    "collapsed": false
   },
   "outputs": [],
   "source": [
    "#conv net\n",
    "def get_input(images):\n",
    "    return images.reshape([-1,28,28,1])\n",
    "def get_labels(labels):\n",
    "    return labels.reshape([-1,10])\n",
    "inputs = get_input(mnist.train.images)"
   ]
  },
  {
   "cell_type": "code",
   "execution_count": 238,
   "metadata": {
    "collapsed": false
   },
   "outputs": [],
   "source": [
    "def cov_net(input_tensor,cov_k_size,cov_stride,n_cov_output,pool_size,pool_stride):\n",
    "    \n",
    "    w = tf.Variable(tf.truncated_normal([cov_k_size,cov_k_size,input_tensor.get_shape().as_list()[3],n_cov_output],mean = 0,stddev = 5e-2))\n",
    "    b = tf.Variable(tf.zeros([n_cov_output]))\n",
    "    cov = tf.nn.conv2d(input_tensor,w,[1,cov_stride,cov_stride,1],padding = 'SAME')\n",
    "    cov_bias = tf.nn.bias_add(cov,b)\n",
    "    cov_pool = tf.nn.max_pool(cov_bias,[1,pool_size,pool_size,1],[1,pool_stride,pool_stride,1],'SAME')\n",
    "    return cov_pool                   "
   ]
  },
  {
   "cell_type": "code",
   "execution_count": 239,
   "metadata": {
    "collapsed": true
   },
   "outputs": [],
   "source": [
    "def flatten(input_tensor):\n",
    "    return tf.contrib.layers.flatten(input_tensor)"
   ]
  },
  {
   "cell_type": "code",
   "execution_count": 245,
   "metadata": {
    "collapsed": true
   },
   "outputs": [],
   "source": [
    "def fully_connected(input_tensor,n_output):\n",
    "    w = tf.Variable(tf.truncated_normal([input_tensor.get_shape().as_list()[1],n_output]))\n",
    "    b = tf.Variable(tf.zeros([n_output]))\n",
    "    output = tf.nn.relu(tf.add(tf.matmul(input_tensor,w),b))\n",
    "    return output"
   ]
  },
  {
   "cell_type": "code",
   "execution_count": 250,
   "metadata": {
    "collapsed": true
   },
   "outputs": [],
   "source": [
    "def output(input_tensor):\n",
    "    w = tf.Variable(tf.truncated_normal([input_tensor.get_shape().as_list()[1],10]))\n",
    "    b = tf.Variable(tf.zeros([10]))\n",
    "    return tf.add(tf.matmul(input_tensor,w),b)"
   ]
  },
  {
   "cell_type": "code",
   "execution_count": 251,
   "metadata": {
    "collapsed": true
   },
   "outputs": [],
   "source": [
    "x = tf.placeholder(tf.float32, [None,28,28,1])\n",
    "y = tf.placeholder(tf.float32,[None,10])"
   ]
  },
  {
   "cell_type": "code",
   "execution_count": 255,
   "metadata": {
    "collapsed": true
   },
   "outputs": [],
   "source": [
    "def conv_net(x,keep_prob):\n",
    "    a = cov_net(x,5,1,32,4,2)\n",
    "    a = tf.nn.dropout(a,keep_prob)\n",
    "    a = cov_net(a,5,1,16,4,2)\n",
    "    a = tf.nn.dropout(a,keep_prob)\n",
    "    a = flatten(a)\n",
    "    a = fully_connected(a,500)\n",
    "    a = fully_connected(a,200)\n",
    "    a = output(a)\n",
    "    return a"
   ]
  },
  {
   "cell_type": "code",
   "execution_count": 256,
   "metadata": {
    "collapsed": false
   },
   "outputs": [],
   "source": [
    "logits = conv_net(x,0.5)"
   ]
  },
  {
   "cell_type": "code",
   "execution_count": 259,
   "metadata": {
    "collapsed": true
   },
   "outputs": [],
   "source": [
    "cost = tf.reduce_mean(tf.nn.softmax_cross_entropy_with_logits(logits = logits,labels = y))\n",
    "optimizer = tf.train.AdamOptimizer().minimize(cost)"
   ]
  },
  {
   "cell_type": "code",
   "execution_count": 258,
   "metadata": {
    "collapsed": false
   },
   "outputs": [],
   "source": [
    "correct_pred = tf.equal(tf.argmax(logits,1),tf.argmax(y,1))\n",
    "accuracy = tf.reduce_mean(tf.cast(correct_pred,tf.float32))"
   ]
  },
  {
   "cell_type": "code",
   "execution_count": 264,
   "metadata": {
    "collapsed": false,
    "scrolled": false
   },
   "outputs": [
    {
     "name": "stdout",
     "output_type": "stream",
     "text": [
      "Step 0, training_accuracy 0.12\n",
      "Step 100, training_accuracy 0.26\n",
      "Step 200, training_accuracy 0.38\n",
      "Step 300, training_accuracy 0.36\n",
      "Step 400, training_accuracy 0.52\n",
      "Step 500, training_accuracy 0.48\n",
      "Step 600, training_accuracy 0.6\n",
      "Step 700, training_accuracy 0.74\n",
      "Step 800, training_accuracy 0.78\n",
      "Step 900, training_accuracy 0.72\n",
      "Step 1000, training_accuracy 0.66\n",
      "Step 1100, training_accuracy 0.7\n",
      "Step 1200, training_accuracy 0.72\n",
      "Step 1300, training_accuracy 0.78\n",
      "Step 1400, training_accuracy 0.88\n",
      "Step 1500, training_accuracy 0.78\n",
      "Step 1600, training_accuracy 0.84\n",
      "Step 1700, training_accuracy 0.82\n",
      "Step 1800, training_accuracy 0.82\n",
      "Step 1900, training_accuracy 0.9\n"
     ]
    }
   ],
   "source": [
    "init = tf.global_variables_initializer()\n",
    "sess = tf.Session()\n",
    "sess.run(init)\n",
    "for i in range(20000):\n",
    "    batch_x,batch_y = mnist.train.next_batch(50)\n",
    "    if i%100 == 0:\n",
    "        train_accuracy = accuracy.eval(session = sess,feed_dict = {x:get_input(batch_x),y:get_labels(batch_y)})\n",
    "        print ('Step %d, training_accuracy %g'%(i,train_accuracy))\n",
    "    optimizer.run(session = sess,feed_dict ={x:get_input(batch_x),y:get_labels(batch_y)} )"
   ]
  },
  {
   "cell_type": "code",
   "execution_count": 265,
   "metadata": {
    "collapsed": false
   },
   "outputs": [
    {
     "data": {
      "text/plain": [
       "0.8556"
      ]
     },
     "execution_count": 265,
     "metadata": {},
     "output_type": "execute_result"
    }
   ],
   "source": [
    "sess.run(accuracy,feed_dict = {x:get_input(mnist.test.images),y:get_labels(mnist.test.labels)})"
   ]
  },
  {
   "cell_type": "code",
   "execution_count": null,
   "metadata": {
    "collapsed": true
   },
   "outputs": [],
   "source": []
  }
 ],
 "metadata": {
  "anaconda-cloud": {},
  "kernelspec": {
   "display_name": "Python [Root]",
   "language": "python",
   "name": "Python [Root]"
  },
  "language_info": {
   "codemirror_mode": {
    "name": "ipython",
    "version": 3
   },
   "file_extension": ".py",
   "mimetype": "text/x-python",
   "name": "python",
   "nbconvert_exporter": "python",
   "pygments_lexer": "ipython3",
   "version": "3.5.2"
  }
 },
 "nbformat": 4,
 "nbformat_minor": 0
}
